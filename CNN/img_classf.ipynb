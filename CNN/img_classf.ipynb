{
  "nbformat": 4,
  "nbformat_minor": 0,
  "metadata": {
    "kernelspec": {
      "display_name": "Python 3",
      "language": "python",
      "name": "python3"
    },
    "language_info": {
      "codemirror_mode": {
        "name": "ipython",
        "version": 3
      },
      "file_extension": ".py",
      "mimetype": "text/x-python",
      "name": "python",
      "nbconvert_exporter": "python",
      "pygments_lexer": "ipython3",
      "version": "3.7.3"
    },
    "colab": {
      "name": "img_classf.ipynb",
      "provenance": []
    },
    "accelerator": "GPU"
  },
  "cells": [
    {
      "cell_type": "markdown",
      "metadata": {
        "id": "7PPcrJ6j2BzS"
      },
      "source": [
        "# Face recognition using Deep Learning(CNN)"
      ]
    },
    {
      "cell_type": "markdown",
      "metadata": {
        "id": "9uyF2lOe2Bzd"
      },
      "source": [
        "### Reading the Images data"
      ]
    },
    {
      "cell_type": "code",
      "metadata": {
        "id": "Y1rPWFdq2Bzf"
      },
      "source": [
        "import warnings\n",
        "warnings.filterwarnings('ignore')\n",
        "\n",
        "import re   \n",
        "import matplotlib.pyplot as plt\n",
        "from skimage.io import imread, imshow\n",
        "from skimage.transform import resize\n",
        "import os\n",
        "import numpy as np\n",
        "import pandas as pd"
      ],
      "execution_count": 1,
      "outputs": []
    },
    {
      "cell_type": "code",
      "metadata": {
        "colab": {
          "base_uri": "https://localhost:8080/"
        },
        "id": "NNPV8bMt8P45",
        "outputId": "8710c5b3-8a2e-47f5-ae1a-e47ad74c2068"
      },
      "source": [
        "# load data\n",
        "from keras.datasets import mnist\n",
        "(X_train, Y_train), (X_test, Y_test) = mnist.load_data()"
      ],
      "execution_count": 2,
      "outputs": [
        {
          "output_type": "stream",
          "name": "stdout",
          "text": [
            "Downloading data from https://storage.googleapis.com/tensorflow/tf-keras-datasets/mnist.npz\n",
            "11493376/11490434 [==============================] - 0s 0us/step\n",
            "11501568/11490434 [==============================] - 0s 0us/step\n"
          ]
        }
      ]
    },
    {
      "cell_type": "code",
      "metadata": {
        "colab": {
          "base_uri": "https://localhost:8080/"
        },
        "id": "LNpRVjpS-zD7",
        "outputId": "407905ba-9d52-43a0-abdb-02f1cc4c3f98"
      },
      "source": [
        "# Dimension of data\n",
        "(X_train.shape, Y_train.shape), (X_test.shape, Y_test.shape)"
      ],
      "execution_count": 3,
      "outputs": [
        {
          "output_type": "execute_result",
          "data": {
            "text/plain": [
              "(((60000, 28, 28), (60000,)), ((10000, 28, 28), (10000,)))"
            ]
          },
          "metadata": {},
          "execution_count": 3
        }
      ]
    },
    {
      "cell_type": "code",
      "metadata": {
        "colab": {
          "base_uri": "https://localhost:8080/",
          "height": 160
        },
        "id": "80hYB5Jg-zA7",
        "outputId": "1f0cddf5-1a2f-4c35-b66f-86207c596c05"
      },
      "source": [
        "# Diplay 3 data of training data from index no. 5000 to 5002 points\n",
        "for i in range(3):\n",
        "  plt.subplot(1,3,i+1)\n",
        "  imshow(X_train[5000 + i])\n"
      ],
      "execution_count": 4,
      "outputs": [
        {
          "output_type": "display_data",
          "data": {
            "image/png": "[encoded data removed]",
            "text/plain": [
              "<Figure size 432x288 with 3 Axes>"
            ]
          },
          "metadata": {
            "needs_background": "light"
          }
        }
      ]
    },
    {
      "cell_type": "code",
      "metadata": {
        "colab": {
          "base_uri": "https://localhost:8080/"
        },
        "id": "-vLykqJfYXoc",
        "outputId": "55714bd1-88f8-4008-ccbc-2eee54253a2c"
      },
      "source": [
        "# As we seen below all randomly selected data from training set has same dimension, we dont need to resize the images size\n",
        "for ind in np.random.choice(len(X_train), 10, replace=False):\n",
        "  print(f'dimension of X_train[{ind}] : {X_train[ind].shape}')"
      ],
      "execution_count": 37,
      "outputs": [
        {
          "output_type": "stream",
          "name": "stdout",
          "text": [
            "dimension of X_train[1680] : (28, 28, 1)\n",
            "dimension of X_train[22243] : (28, 28, 1)\n",
            "dimension of X_train[3305] : (28, 28, 1)\n",
            "dimension of X_train[38698] : (28, 28, 1)\n",
            "dimension of X_train[4256] : (28, 28, 1)\n",
            "dimension of X_train[10585] : (28, 28, 1)\n",
            "dimension of X_train[10749] : (28, 28, 1)\n",
            "dimension of X_train[41331] : (28, 28, 1)\n",
            "dimension of X_train[5426] : (28, 28, 1)\n",
            "dimension of X_train[2452] : (28, 28, 1)\n"
          ]
        }
      ]
    },
    {
      "cell_type": "code",
      "metadata": {
        "id": "YG7KB96X4mqT",
        "outputId": "1fd664b7-5475-4435-8fb3-3fa349ac207a",
        "colab": {
          "base_uri": "https://localhost:8080/"
        }
      },
      "source": [
        "# image sizes of test dataset\n",
        "for ind in np.random.choice(len(X_test), 10, replace=False):\n",
        "  print(f'dimension of X_test[{ind}] : {X_test[ind].shape}')"
      ],
      "execution_count": 39,
      "outputs": [
        {
          "output_type": "stream",
          "name": "stdout",
          "text": [
            "dimension of X_test[2010] : (28, 28, 1)\n",
            "dimension of X_test[2947] : (28, 28, 1)\n",
            "dimension of X_test[9516] : (28, 28, 1)\n",
            "dimension of X_test[1907] : (28, 28, 1)\n",
            "dimension of X_test[2190] : (28, 28, 1)\n",
            "dimension of X_test[9227] : (28, 28, 1)\n",
            "dimension of X_test[1289] : (28, 28, 1)\n",
            "dimension of X_test[8359] : (28, 28, 1)\n",
            "dimension of X_test[4272] : (28, 28, 1)\n",
            "dimension of X_test[4042] : (28, 28, 1)\n"
          ]
        }
      ]
    },
    {
      "cell_type": "code",
      "metadata": {
        "colab": {
          "base_uri": "https://localhost:8080/"
        },
        "id": "PUNVenSmZXas",
        "outputId": "94d6649f-f010-4e62-fdb7-3487843329d7"
      },
      "source": [
        "Y_train[5000:5003]"
      ],
      "execution_count": 6,
      "outputs": [
        {
          "output_type": "execute_result",
          "data": {
            "text/plain": [
              "array([7, 3, 4], dtype=uint8)"
            ]
          },
          "metadata": {},
          "execution_count": 6
        }
      ]
    },
    {
      "cell_type": "code",
      "metadata": {
        "colab": {
          "base_uri": "https://localhost:8080/"
        },
        "id": "2medojtYZudU",
        "outputId": "3a1c2219-dd12-4c5e-c572-292d1e1dd4e7"
      },
      "source": [
        "# pixel matrix of a image(X_train[5000])\n",
        "X_train[5000]"
      ],
      "execution_count": 7,
      "outputs": [
        {
          "output_type": "execute_result",
          "data": {
            "text/plain": [
              "array([[  0,   0,   0,   0,   0,   0,   0,   0,   0,   0,   0,   0,   0,\n",
              "          0,   0,   0,   0,   0,   0,   0,   0,   0,   0,   0,   0,   0,\n",
              "          0,   0],\n",
              "       [  0,   0,   0,   0,   0,   0,   0,   0,   0,   0,   0,   0,   0,\n",
              "          0,   0,   0,   0,   0,   0,   0,   0,   0,   0,   0,   0,   0,\n",
              "          0,   0],\n",
              "       [  0,   0,   0,   0,   0,   0,   0,   0,   0,   0,   0,   0,   0,\n",
              "          0,   0,   0,   0,   0,   0,   0,   0,   0,   0,   0,   0,   0,\n",
              "          0,   0],\n",
              "       [  0,   0,   0,   0,   0,   0,   0,   0,   0,   0,   0,   0,   0,\n",
              "          0,   0,   0,   0,   0,   0,   0,   0,   0,   0,   0,   0,   0,\n",
              "          0,   0],\n",
              "       [  0,   0,   0,   0,   0,   0,   0,   0,   0,   0,   0,   0,   0,\n",
              "          0,   0,   0,   0,   0,   0,   0,   0,   0,   0,   0,   0,   0,\n",
              "          0,   0],\n",
              "       [  0,   0,   0,   0,   0,   0,   0,   0,   0,   0,   0,   0,   0,\n",
              "          0,   0,   0,   0,   0,   0,   0,   0,   0,   0,   0,   0,   0,\n",
              "          0,   0],\n",
              "       [  0,   0,   0,   0,   0,   0,   0,   0,   0,   0,   0,   0,   0,\n",
              "          0,   0,   0,   0,   0,   0,   0,   0,   0,   0,   0,   0,   0,\n",
              "          0,   0],\n",
              "       [  0,   0,   0,   0,   0,   0,   0,   0,   0,   0,   0,  97,  96,\n",
              "         77, 118,  61,   0,   0,   0,   0,   0,   0,   0,   0,   0,   0,\n",
              "          0,   0],\n",
              "       [  0,   0,   0,  90, 138, 235, 235, 235, 235, 235, 235, 251, 251,\n",
              "        248, 254, 245, 235, 190,  21,   0,   0,   0,   0,   0,   0,   0,\n",
              "          0,   0],\n",
              "       [  0,   0, 140, 251, 254, 254, 254, 254, 254, 254, 254, 254, 254,\n",
              "        254, 254, 254, 254, 254, 189,  23,   0,   0,   0,   0,   0,   0,\n",
              "          0,   0],\n",
              "       [  0,   0, 226, 254, 208, 199, 199, 199, 199, 139,  61,  61,  61,\n",
              "         61,  61, 128, 222, 254, 254, 189,  21,   0,   0,   0,   0,   0,\n",
              "          0,   0],\n",
              "       [  0,   0,  38,  82,  13,   0,   0,   0,   0,   0,   0,   0,   0,\n",
              "          0,   0,   0,  34, 213, 254, 254, 115,   0,   0,   0,   0,   0,\n",
              "          0,   0],\n",
              "       [  0,   0,   0,   0,   0,   0,   0,   0,   0,   0,   0,   0,   0,\n",
              "          0,   0,   0,   0,  84, 254, 254, 234,   0,   0,   0,   0,   0,\n",
              "          0,   0],\n",
              "       [  0,   0,   0,   0,   0,   0,   0,   0,   0,   0,   0,   0,   0,\n",
              "          0,   0,   0,   0,  84, 254, 254, 234,   0,   0,   0,   0,   0,\n",
              "          0,   0],\n",
              "       [  0,   0,   0,   0,   0,   0,   0,   0,   0,   0,   0,   0,   0,\n",
              "          0,   0,   0, 106, 157, 254, 254, 243,  51,   0,   0,   0,   0,\n",
              "          0,   0],\n",
              "       [  0,   0,   0,   0,   0,   0,   0,   0,   0,   0,   0,  25, 117,\n",
              "        228, 228, 228, 253, 254, 254, 254, 254, 240,   0,   0,   0,   0,\n",
              "          0,   0],\n",
              "       [  0,   0,   0,   0,   0,   0,   0,   0,   0,  68, 119, 220, 254,\n",
              "        254, 254, 254, 254, 254, 254, 254, 254, 142,   0,   0,   0,   0,\n",
              "          0,   0],\n",
              "       [  0,   0,   0,   0,   0,   0,   0,  37, 187, 253, 254, 254, 254,\n",
              "        223, 206, 206,  75,  68, 215, 254, 254, 117,   0,   0,   0,   0,\n",
              "          0,   0],\n",
              "       [  0,   0,   0,   0,   0,   0, 113, 219, 254, 242, 227, 115,  89,\n",
              "         31,   0,   0,   0,   0, 200, 254, 241,  41,   0,   0,   0,   0,\n",
              "          0,   0],\n",
              "       [  0,   0,   0,   0,   0,   0, 169, 254, 176,  62,   0,   0,   0,\n",
              "          0,   0,   0,   0,  48, 231, 254, 234,   0,   0,   0,   0,   0,\n",
              "          0,   0],\n",
              "       [  0,   0,   0,   0,   0,   0,  18, 124,   0,   0,   0,   0,   0,\n",
              "          0,   0,   0,   0,  84, 254, 254, 166,   0,   0,   0,   0,   0,\n",
              "          0,   0],\n",
              "       [  0,   0,   0,   0,   0,   0,   0,   0,   0,   0,   0,   0,   0,\n",
              "          0,   0,   0,   0, 139, 254, 238,  57,   0,   0,   0,   0,   0,\n",
              "          0,   0],\n",
              "       [  0,   0,   0,   0,   0,   0,   0,   0,   0,   0,   0,   0,   0,\n",
              "          0,   0,   0, 210, 250, 254, 168,   0,   0,   0,   0,   0,   0,\n",
              "          0,   0],\n",
              "       [  0,   0,   0,   0,   0,   0,   0,   0,   0,   0,   0,   0,   0,\n",
              "          0,   0,   0, 242, 254, 239,  57,   0,   0,   0,   0,   0,   0,\n",
              "          0,   0],\n",
              "       [  0,   0,   0,   0,   0,   0,   0,   0,   0,   0,   0,   0,   0,\n",
              "          0,   0,  89, 251, 241,  86,   0,   0,   0,   0,   0,   0,   0,\n",
              "          0,   0],\n",
              "       [  0,   0,   0,   0,   0,   0,   0,   0,   0,   0,   0,   0,   0,\n",
              "          0,   5, 206, 246, 157,   0,   0,   0,   0,   0,   0,   0,   0,\n",
              "          0,   0],\n",
              "       [  0,   0,   0,   0,   0,   0,   0,   0,   0,   0,   0,   0,   0,\n",
              "          0,   4, 117,  69,   0,   0,   0,   0,   0,   0,   0,   0,   0,\n",
              "          0,   0],\n",
              "       [  0,   0,   0,   0,   0,   0,   0,   0,   0,   0,   0,   0,   0,\n",
              "          0,   0,   0,   0,   0,   0,   0,   0,   0,   0,   0,   0,   0,\n",
              "          0,   0]], dtype=uint8)"
            ]
          },
          "metadata": {},
          "execution_count": 7
        }
      ]
    },
    {
      "cell_type": "code",
      "metadata": {
        "colab": {
          "base_uri": "https://localhost:8080/",
          "height": 475
        },
        "id": "oPkNBaLS2B0D",
        "outputId": "91c012ea-f3f0-4834-bb4a-34d4b43491d0"
      },
      "source": [
        "# visualize number of images per class in training dataset\n",
        "import seaborn as sns\n",
        "\n",
        "plt.figure(figsize=(15,7))\n",
        "g = sns.countplot(Y_train, palette=\"icefire\")\n",
        "plt.title(\"number of images per class of test data\")\n",
        "plt.xlabel(\"classes\")"
      ],
      "execution_count": 8,
      "outputs": [
        {
          "output_type": "execute_result",
          "data": {
            "text/plain": [
              "Text(0.5, 0, 'classes')"
            ]
          },
          "metadata": {},
          "execution_count": 8
        },
        {
          "output_type": "display_data",
          "data": {
            "image/png": "[encoded data removed]",
            "text/plain": [
              "<Figure size 1080x504 with 1 Axes>"
            ]
          },
          "metadata": {
            "needs_background": "light"
          }
        }
      ]
    },
    {
      "cell_type": "code",
      "metadata": {
        "colab": {
          "base_uri": "https://localhost:8080/"
        },
        "id": "ZzwWC491cEbQ",
        "outputId": "ddb0dba5-6167-4829-f851-59116c1164d3"
      },
      "source": [
        "X_train = X_train/255.\n",
        "X_test = X_test/255.\n",
        "X_train[5000]"
      ],
      "execution_count": 9,
      "outputs": [
        {
          "output_type": "execute_result",
          "data": {
            "text/plain": [
              "array([[0.        , 0.        , 0.        , 0.        , 0.        ,\n",
              "        0.        , 0.        , 0.        , 0.        , 0.        ,\n",
              "        0.        , 0.        , 0.        , 0.        , 0.        ,\n",
              "        0.        , 0.        , 0.        , 0.        , 0.        ,\n",
              "        0.        , 0.        , 0.        , 0.        , 0.        ,\n",
              "        0.        , 0.        , 0.        ],\n",
              "       [0.        , 0.        , 0.        , 0.        , 0.        ,\n",
              "        0.        , 0.        , 0.        , 0.        , 0.        ,\n",
              "        0.        , 0.        , 0.        , 0.        , 0.        ,\n",
              "        0.        , 0.        , 0.        , 0.        , 0.        ,\n",
              "        0.        , 0.        , 0.        , 0.        , 0.        ,\n",
              "        0.        , 0.        , 0.        ],\n",
              "       [0.        , 0.        , 0.        , 0.        , 0.        ,\n",
              "        0.        , 0.        , 0.        , 0.        , 0.        ,\n",
              "        0.        , 0.        , 0.        , 0.        , 0.        ,\n",
              "        0.        , 0.        , 0.        , 0.        , 0.        ,\n",
              "        0.        , 0.        , 0.        , 0.        , 0.        ,\n",
              "        0.        , 0.        , 0.        ],\n",
              "       [0.        , 0.        , 0.        , 0.        , 0.        ,\n",
              "        0.        , 0.        , 0.        , 0.        , 0.        ,\n",
              "        0.        , 0.        , 0.        , 0.        , 0.        ,\n",
              "        0.        , 0.        , 0.        , 0.        , 0.        ,\n",
              "        0.        , 0.        , 0.        , 0.        , 0.        ,\n",
              "        0.        , 0.        , 0.        ],\n",
              "       [0.        , 0.        , 0.        , 0.        , 0.        ,\n",
              "        0.        , 0.        , 0.        , 0.        , 0.        ,\n",
              "        0.        , 0.        , 0.        , 0.        , 0.        ,\n",
              "        0.        , 0.        , 0.        , 0.        , 0.        ,\n",
              "        0.        , 0.        , 0.        , 0.        , 0.        ,\n",
              "        0.        , 0.        , 0.        ],\n",
              "       [0.        , 0.        , 0.        , 0.        , 0.        ,\n",
              "        0.        , 0.        , 0.        , 0.        , 0.        ,\n",
              "        0.        , 0.        , 0.        , 0.        , 0.        ,\n",
              "        0.        , 0.        , 0.        , 0.        , 0.        ,\n",
              "        0.        , 0.        , 0.        , 0.        , 0.        ,\n",
              "        0.        , 0.        , 0.        ],\n",
              "       [0.        , 0.        , 0.        , 0.        , 0.        ,\n",
              "        0.        , 0.        , 0.        , 0.        , 0.        ,\n",
              "        0.        , 0.        , 0.        , 0.        , 0.        ,\n",
              "        0.        , 0.        , 0.        , 0.        , 0.        ,\n",
              "        0.        , 0.        , 0.        , 0.        , 0.        ,\n",
              "        0.        , 0.        , 0.        ],\n",
              "       [0.        , 0.        , 0.        , 0.        , 0.        ,\n",
              "        0.        , 0.        , 0.        , 0.        , 0.        ,\n",
              "        0.        , 0.38039216, 0.37647059, 0.30196078, 0.4627451 ,\n",
              "        0.23921569, 0.        , 0.        , 0.        , 0.        ,\n",
              "        0.        , 0.        , 0.        , 0.        , 0.        ,\n",
              "        0.        , 0.        , 0.        ],\n",
              "       [0.        , 0.        , 0.        , 0.35294118, 0.54117647,\n",
              "        0.92156863, 0.92156863, 0.92156863, 0.92156863, 0.92156863,\n",
              "        0.92156863, 0.98431373, 0.98431373, 0.97254902, 0.99607843,\n",
              "        0.96078431, 0.92156863, 0.74509804, 0.08235294, 0.        ,\n",
              "        0.        , 0.        , 0.        , 0.        , 0.        ,\n",
              "        0.        , 0.        , 0.        ],\n",
              "       [0.        , 0.        , 0.54901961, 0.98431373, 0.99607843,\n",
              "        0.99607843, 0.99607843, 0.99607843, 0.99607843, 0.99607843,\n",
              "        0.99607843, 0.99607843, 0.99607843, 0.99607843, 0.99607843,\n",
              "        0.99607843, 0.99607843, 0.99607843, 0.74117647, 0.09019608,\n",
              "        0.        , 0.        , 0.        , 0.        , 0.        ,\n",
              "        0.        , 0.        , 0.        ],\n",
              "       [0.        , 0.        , 0.88627451, 0.99607843, 0.81568627,\n",
              "        0.78039216, 0.78039216, 0.78039216, 0.78039216, 0.54509804,\n",
              "        0.23921569, 0.23921569, 0.23921569, 0.23921569, 0.23921569,\n",
              "        0.50196078, 0.87058824, 0.99607843, 0.99607843, 0.74117647,\n",
              "        0.08235294, 0.        , 0.        , 0.        , 0.        ,\n",
              "        0.        , 0.        , 0.        ],\n",
              "       [0.        , 0.        , 0.14901961, 0.32156863, 0.05098039,\n",
              "        0.        , 0.        , 0.        , 0.        , 0.        ,\n",
              "        0.        , 0.        , 0.        , 0.        , 0.        ,\n",
              "        0.        , 0.13333333, 0.83529412, 0.99607843, 0.99607843,\n",
              "        0.45098039, 0.        , 0.        , 0.        , 0.        ,\n",
              "        0.        , 0.        , 0.        ],\n",
              "       [0.        , 0.        , 0.        , 0.        , 0.        ,\n",
              "        0.        , 0.        , 0.        , 0.        , 0.        ,\n",
              "        0.        , 0.        , 0.        , 0.        , 0.        ,\n",
              "        0.        , 0.        , 0.32941176, 0.99607843, 0.99607843,\n",
              "        0.91764706, 0.        , 0.        , 0.        , 0.        ,\n",
              "        0.        , 0.        , 0.        ],\n",
              "       [0.        , 0.        , 0.        , 0.        , 0.        ,\n",
              "        0.        , 0.        , 0.        , 0.        , 0.        ,\n",
              "        0.        , 0.        , 0.        , 0.        , 0.        ,\n",
              "        0.        , 0.        , 0.32941176, 0.99607843, 0.99607843,\n",
              "        0.91764706, 0.        , 0.        , 0.        , 0.        ,\n",
              "        0.        , 0.        , 0.        ],\n",
              "       [0.        , 0.        , 0.        , 0.        , 0.        ,\n",
              "        0.        , 0.        , 0.        , 0.        , 0.        ,\n",
              "        0.        , 0.        , 0.        , 0.        , 0.        ,\n",
              "        0.        , 0.41568627, 0.61568627, 0.99607843, 0.99607843,\n",
              "        0.95294118, 0.2       , 0.        , 0.        , 0.        ,\n",
              "        0.        , 0.        , 0.        ],\n",
              "       [0.        , 0.        , 0.        , 0.        , 0.        ,\n",
              "        0.        , 0.        , 0.        , 0.        , 0.        ,\n",
              "        0.        , 0.09803922, 0.45882353, 0.89411765, 0.89411765,\n",
              "        0.89411765, 0.99215686, 0.99607843, 0.99607843, 0.99607843,\n",
              "        0.99607843, 0.94117647, 0.        , 0.        , 0.        ,\n",
              "        0.        , 0.        , 0.        ],\n",
              "       [0.        , 0.        , 0.        , 0.        , 0.        ,\n",
              "        0.        , 0.        , 0.        , 0.        , 0.26666667,\n",
              "        0.46666667, 0.8627451 , 0.99607843, 0.99607843, 0.99607843,\n",
              "        0.99607843, 0.99607843, 0.99607843, 0.99607843, 0.99607843,\n",
              "        0.99607843, 0.55686275, 0.        , 0.        , 0.        ,\n",
              "        0.        , 0.        , 0.        ],\n",
              "       [0.        , 0.        , 0.        , 0.        , 0.        ,\n",
              "        0.        , 0.        , 0.14509804, 0.73333333, 0.99215686,\n",
              "        0.99607843, 0.99607843, 0.99607843, 0.8745098 , 0.80784314,\n",
              "        0.80784314, 0.29411765, 0.26666667, 0.84313725, 0.99607843,\n",
              "        0.99607843, 0.45882353, 0.        , 0.        , 0.        ,\n",
              "        0.        , 0.        , 0.        ],\n",
              "       [0.        , 0.        , 0.        , 0.        , 0.        ,\n",
              "        0.        , 0.44313725, 0.85882353, 0.99607843, 0.94901961,\n",
              "        0.89019608, 0.45098039, 0.34901961, 0.12156863, 0.        ,\n",
              "        0.        , 0.        , 0.        , 0.78431373, 0.99607843,\n",
              "        0.94509804, 0.16078431, 0.        , 0.        , 0.        ,\n",
              "        0.        , 0.        , 0.        ],\n",
              "       [0.        , 0.        , 0.        , 0.        , 0.        ,\n",
              "        0.        , 0.6627451 , 0.99607843, 0.69019608, 0.24313725,\n",
              "        0.        , 0.        , 0.        , 0.        , 0.        ,\n",
              "        0.        , 0.        , 0.18823529, 0.90588235, 0.99607843,\n",
              "        0.91764706, 0.        , 0.        , 0.        , 0.        ,\n",
              "        0.        , 0.        , 0.        ],\n",
              "       [0.        , 0.        , 0.        , 0.        , 0.        ,\n",
              "        0.        , 0.07058824, 0.48627451, 0.        , 0.        ,\n",
              "        0.        , 0.        , 0.        , 0.        , 0.        ,\n",
              "        0.        , 0.        , 0.32941176, 0.99607843, 0.99607843,\n",
              "        0.65098039, 0.        , 0.        , 0.        , 0.        ,\n",
              "        0.        , 0.        , 0.        ],\n",
              "       [0.        , 0.        , 0.        , 0.        , 0.        ,\n",
              "        0.        , 0.        , 0.        , 0.        , 0.        ,\n",
              "        0.        , 0.        , 0.        , 0.        , 0.        ,\n",
              "        0.        , 0.        , 0.54509804, 0.99607843, 0.93333333,\n",
              "        0.22352941, 0.        , 0.        , 0.        , 0.        ,\n",
              "        0.        , 0.        , 0.        ],\n",
              "       [0.        , 0.        , 0.        , 0.        , 0.        ,\n",
              "        0.        , 0.        , 0.        , 0.        , 0.        ,\n",
              "        0.        , 0.        , 0.        , 0.        , 0.        ,\n",
              "        0.        , 0.82352941, 0.98039216, 0.99607843, 0.65882353,\n",
              "        0.        , 0.        , 0.        , 0.        , 0.        ,\n",
              "        0.        , 0.        , 0.        ],\n",
              "       [0.        , 0.        , 0.        , 0.        , 0.        ,\n",
              "        0.        , 0.        , 0.        , 0.        , 0.        ,\n",
              "        0.        , 0.        , 0.        , 0.        , 0.        ,\n",
              "        0.        , 0.94901961, 0.99607843, 0.9372549 , 0.22352941,\n",
              "        0.        , 0.        , 0.        , 0.        , 0.        ,\n",
              "        0.        , 0.        , 0.        ],\n",
              "       [0.        , 0.        , 0.        , 0.        , 0.        ,\n",
              "        0.        , 0.        , 0.        , 0.        , 0.        ,\n",
              "        0.        , 0.        , 0.        , 0.        , 0.        ,\n",
              "        0.34901961, 0.98431373, 0.94509804, 0.3372549 , 0.        ,\n",
              "        0.        , 0.        , 0.        , 0.        , 0.        ,\n",
              "        0.        , 0.        , 0.        ],\n",
              "       [0.        , 0.        , 0.        , 0.        , 0.        ,\n",
              "        0.        , 0.        , 0.        , 0.        , 0.        ,\n",
              "        0.        , 0.        , 0.        , 0.        , 0.01960784,\n",
              "        0.80784314, 0.96470588, 0.61568627, 0.        , 0.        ,\n",
              "        0.        , 0.        , 0.        , 0.        , 0.        ,\n",
              "        0.        , 0.        , 0.        ],\n",
              "       [0.        , 0.        , 0.        , 0.        , 0.        ,\n",
              "        0.        , 0.        , 0.        , 0.        , 0.        ,\n",
              "        0.        , 0.        , 0.        , 0.        , 0.01568627,\n",
              "        0.45882353, 0.27058824, 0.        , 0.        , 0.        ,\n",
              "        0.        , 0.        , 0.        , 0.        , 0.        ,\n",
              "        0.        , 0.        , 0.        ],\n",
              "       [0.        , 0.        , 0.        , 0.        , 0.        ,\n",
              "        0.        , 0.        , 0.        , 0.        , 0.        ,\n",
              "        0.        , 0.        , 0.        , 0.        , 0.        ,\n",
              "        0.        , 0.        , 0.        , 0.        , 0.        ,\n",
              "        0.        , 0.        , 0.        , 0.        , 0.        ,\n",
              "        0.        , 0.        , 0.        ]])"
            ]
          },
          "metadata": {},
          "execution_count": 9
        }
      ]
    },
    {
      "cell_type": "code",
      "metadata": {
        "colab": {
          "base_uri": "https://localhost:8080/"
        },
        "id": "8oVAq0bocw0o",
        "outputId": "0013aead-6f24-4f15-9b3a-05777f97f85d"
      },
      "source": [
        "# datatype of training data Predictors\n",
        "X_train.dtype"
      ],
      "execution_count": 10,
      "outputs": [
        {
          "output_type": "execute_result",
          "data": {
            "text/plain": [
              "dtype('float64')"
            ]
          },
          "metadata": {},
          "execution_count": 10
        }
      ]
    },
    {
      "cell_type": "code",
      "metadata": {
        "colab": {
          "base_uri": "https://localhost:8080/"
        },
        "id": "YbQHTuQSc_Pt",
        "outputId": "e0746981-5dd5-4af5-b3ec-edea88f1badb"
      },
      "source": [
        "# change datatype\n",
        "X_train = X_train.astype('float32')\n",
        "X_test = X_test.astype('float32')\n",
        "X_train.dtype"
      ],
      "execution_count": 11,
      "outputs": [
        {
          "output_type": "execute_result",
          "data": {
            "text/plain": [
              "dtype('float32')"
            ]
          },
          "metadata": {},
          "execution_count": 11
        }
      ]
    },
    {
      "cell_type": "code",
      "metadata": {
        "colab": {
          "base_uri": "https://localhost:8080/"
        },
        "id": "je0Jxut92B0D",
        "outputId": "eba85672-ed4c-40cf-dbca-843b666cf005"
      },
      "source": [
        "# Reshape the predictor/input bcz CNN take 3D input, \"-1\" is for total no. of rows, \"28,28\" image size, \"1\" is for no. of channels(image gray or colorful)\n",
        "X_train = X_train.reshape(-1, 28,28,1)\n",
        "X_test = X_test.reshape(-1, 28,28,1)\n",
        "X_train.shape, X_test.shape"
      ],
      "execution_count": 12,
      "outputs": [
        {
          "output_type": "execute_result",
          "data": {
            "text/plain": [
              "((60000, 28, 28, 1), (10000, 28, 28, 1))"
            ]
          },
          "metadata": {},
          "execution_count": 12
        }
      ]
    },
    {
      "cell_type": "code",
      "metadata": {
        "colab": {
          "base_uri": "https://localhost:8080/"
        },
        "id": "pbWMop952B0F",
        "outputId": "fe35303a-f4ce-4088-ae8b-a11b32937387"
      },
      "source": [
        "# Change the labels from categorical to one-hot encoding\n",
        "# one-hot-encoding of target column, there are 10 unique classes in target column\n",
        "# so there could be make 10 columns from 1 target column\n",
        "from tensorflow.keras.utils import to_categorical\n",
        "\n",
        "y_train_cat = to_categorical(Y_train)\n",
        "y_test_cat = to_categorical(Y_test)\n",
        "\n",
        "# Display the change for category label using one-hot encoding\n",
        "print('Original label:', Y_train[5000])\n",
        "print('After conversion to one-hot:', y_train_cat[5000],'\\n')\n",
        "print(f'Y_train_one_hot first 3 rows: \\n{y_train_cat[:3]}\\n')\n",
        "print(f'Y_test_one_hot first 3 rows: \\n{y_test_cat[:3]}')"
      ],
      "execution_count": 13,
      "outputs": [
        {
          "output_type": "stream",
          "name": "stdout",
          "text": [
            "Original label: 7\n",
            "After conversion to one-hot: [0. 0. 0. 0. 0. 0. 0. 1. 0. 0.] \n",
            "\n",
            "Y_train_one_hot first 3 rows: \n",
            "[[0. 0. 0. 0. 0. 1. 0. 0. 0. 0.]\n",
            " [1. 0. 0. 0. 0. 0. 0. 0. 0. 0.]\n",
            " [0. 0. 0. 0. 1. 0. 0. 0. 0. 0.]]\n",
            "\n",
            "Y_test_one_hot first 3 rows: \n",
            "[[0. 0. 0. 0. 0. 0. 0. 1. 0. 0.]\n",
            " [0. 0. 1. 0. 0. 0. 0. 0. 0. 0.]\n",
            " [0. 1. 0. 0. 0. 0. 0. 0. 0. 0.]]\n"
          ]
        }
      ]
    },
    {
      "cell_type": "code",
      "metadata": {
        "colab": {
          "base_uri": "https://localhost:8080/"
        },
        "id": "HCVlZP1U2B0G",
        "outputId": "19386689-64dd-4ee1-890f-c2d48980a3a4"
      },
      "source": [
        "# shape of newly created target data\n",
        "y_train_cat.shape, y_test_cat.shape"
      ],
      "execution_count": 14,
      "outputs": [
        {
          "output_type": "execute_result",
          "data": {
            "text/plain": [
              "((60000, 10), (10000, 10))"
            ]
          },
          "metadata": {},
          "execution_count": 14
        }
      ]
    },
    {
      "cell_type": "code",
      "metadata": {
        "colab": {
          "base_uri": "https://localhost:8080/"
        },
        "id": "n6CGBEE62B0H",
        "outputId": "a69b4bc4-f4a7-4530-ff27-12d8446c40e2"
      },
      "source": [
        "print(\"X_train shape\",X_train.shape)\n",
        "print(\"X_test shape\",X_test.shape)\n",
        "print(\"y_train shape\", Y_train.shape)\n",
        "print(\"y_test shape\", Y_test.shape)"
      ],
      "execution_count": 15,
      "outputs": [
        {
          "output_type": "stream",
          "name": "stdout",
          "text": [
            "X_train shape (60000, 28, 28, 1)\n",
            "X_test shape (10000, 28, 28, 1)\n",
            "y_train shape (60000,)\n",
            "y_test shape (10000,)\n"
          ]
        }
      ]
    },
    {
      "cell_type": "code",
      "metadata": {
        "id": "kE4LAN2P2B0H"
      },
      "source": [
        "# network Structure defined\n",
        "from sklearn.metrics import confusion_matrix\n",
        "import tensorflow as tf\n",
        "\n",
        "import keras\n",
        "from keras.models import Sequential\n",
        "from keras.layers import Dense, Dropout, Flatten, Conv2D, MaxPool2D\n",
        "\n",
        "model = Sequential()\n",
        "\n",
        "model.add(Conv2D(filters = 10, kernel_size = (3,3),padding = 'Same', activation ='relu', input_shape=(28,28,1)))\n",
        "model.add(MaxPool2D(pool_size=(2,2))) # use to reduce the training parameters\n",
        "model.add(Dropout(0.25)) # use to fix the overfitting\n",
        "\n",
        "model.add(Conv2D(filters = 10, kernel_size = (3,3),padding = 'Same', activation ='relu'))\n",
        "model.add(MaxPool2D(pool_size=(2,2), strides=(1,1))) # strides means move pool matrix (n,n) n steps left, \n",
        "                                                     # after completing complete row of matrix then move n steps down \n",
        "model.add(Dropout(0.25))   \n",
        "# fully connected\n",
        "model.add(Flatten())\n",
        "model.add(Dense(256, activation = \"relu\"))\n",
        "model.add(Dropout(0.5))\n",
        "model.add(Dense(10, activation = \"softmax\")) # 10 neurons in output layer bcz, we have 10 classes in target variable"
      ],
      "execution_count": 16,
      "outputs": []
    },
    {
      "cell_type": "code",
      "metadata": {
        "id": "Hklwzpwi2B0I"
      },
      "source": [
        "# Compile the model\n",
        "model.compile(optimizer = 'adam' , loss = \"categorical_crossentropy\", metrics=[\"accuracy\"]) \n",
        "\n",
        "epochs = 10  # for better result increase the epochs\n",
        "batch_size = 128 # after each 128 points loss function calculated, and adjusted weights of neurons in layers"
      ],
      "execution_count": 17,
      "outputs": []
    },
    {
      "cell_type": "code",
      "metadata": {
        "colab": {
          "base_uri": "https://localhost:8080/"
        },
        "id": "_rpYdfmn2B0I",
        "outputId": "de570c86-655b-42a3-e698-1a20248beb70"
      },
      "source": [
        "# fit the model\n",
        "history = model.fit(X_train,y_train_cat, batch_size=batch_size,epochs = epochs, validation_data=(X_test,y_test_cat))"
      ],
      "execution_count": 18,
      "outputs": [
        {
          "output_type": "stream",
          "name": "stdout",
          "text": [
            "Epoch 1/10\n",
            "469/469 [==============================] - 36s 9ms/step - loss: 0.3716 - accuracy: 0.8823 - val_loss: 0.0764 - val_accuracy: 0.9774\n",
            "Epoch 2/10\n",
            "469/469 [==============================] - 4s 8ms/step - loss: 0.1226 - accuracy: 0.9625 - val_loss: 0.0478 - val_accuracy: 0.9854\n",
            "Epoch 3/10\n",
            "469/469 [==============================] - 4s 8ms/step - loss: 0.0922 - accuracy: 0.9713 - val_loss: 0.0371 - val_accuracy: 0.9880\n",
            "Epoch 4/10\n",
            "469/469 [==============================] - 4s 8ms/step - loss: 0.0827 - accuracy: 0.9739 - val_loss: 0.0315 - val_accuracy: 0.9902\n",
            "Epoch 5/10\n",
            "469/469 [==============================] - 4s 8ms/step - loss: 0.0699 - accuracy: 0.9782 - val_loss: 0.0313 - val_accuracy: 0.9892\n",
            "Epoch 6/10\n",
            "469/469 [==============================] - 4s 8ms/step - loss: 0.0626 - accuracy: 0.9808 - val_loss: 0.0280 - val_accuracy: 0.9906\n",
            "Epoch 7/10\n",
            "469/469 [==============================] - 4s 8ms/step - loss: 0.0614 - accuracy: 0.9813 - val_loss: 0.0257 - val_accuracy: 0.9919\n",
            "Epoch 8/10\n",
            "469/469 [==============================] - 4s 8ms/step - loss: 0.0555 - accuracy: 0.9825 - val_loss: 0.0258 - val_accuracy: 0.9919\n",
            "Epoch 9/10\n",
            "469/469 [==============================] - 4s 8ms/step - loss: 0.0531 - accuracy: 0.9830 - val_loss: 0.0258 - val_accuracy: 0.9915\n",
            "Epoch 10/10\n",
            "469/469 [==============================] - 4s 8ms/step - loss: 0.0490 - accuracy: 0.9844 - val_loss: 0.0232 - val_accuracy: 0.9921\n"
          ]
        }
      ]
    },
    {
      "cell_type": "code",
      "metadata": {
        "colab": {
          "base_uri": "https://localhost:8080/"
        },
        "id": "oqdjXqg8hTzn",
        "outputId": "8334a1e3-25d0-44c1-bc2d-5b50f519091a"
      },
      "source": [
        "# Testing model on unseen data\n",
        "test_eval = model.evaluate(X_test, y_test_cat, verbose=0)\n",
        "test_eval"
      ],
      "execution_count": 19,
      "outputs": [
        {
          "output_type": "execute_result",
          "data": {
            "text/plain": [
              "[0.023173987865447998, 0.9921000003814697]"
            ]
          },
          "metadata": {},
          "execution_count": 19
        }
      ]
    },
    {
      "cell_type": "code",
      "metadata": {
        "colab": {
          "base_uri": "https://localhost:8080/"
        },
        "id": "41QOxqbthTwA",
        "outputId": "80b9b750-26c4-4c33-8878-48c399a4e1a8"
      },
      "source": [
        "print('Test loss:', test_eval[0])\n",
        "print('Test accuracy:', test_eval[1])"
      ],
      "execution_count": 20,
      "outputs": [
        {
          "output_type": "stream",
          "name": "stdout",
          "text": [
            "Test loss: 0.023173987865447998\n",
            "Test accuracy: 0.9921000003814697\n"
          ]
        }
      ]
    },
    {
      "cell_type": "code",
      "metadata": {
        "colab": {
          "base_uri": "https://localhost:8080/",
          "height": 545
        },
        "id": "mMN4wi7xhTsi",
        "outputId": "18dcaa55-1620-4dab-cd52-f52205b02bd0"
      },
      "source": [
        "accuracy = history.history['accuracy']\n",
        "val_accuracy = history.history['val_accuracy']\n",
        "loss = history.history['loss']\n",
        "val_loss = history.history['val_loss']\n",
        "epochs = range(len(accuracy))\n",
        "plt.plot(epochs, accuracy, 'bo', label='Training accuracy')\n",
        "plt.plot(epochs, val_accuracy, 'b', label='Validation accuracy')\n",
        "plt.title('Training and validation accuracy')\n",
        "plt.legend()\n",
        "plt.figure()\n",
        "plt.plot(epochs, loss, 'bo', label='Training loss')\n",
        "plt.plot(epochs, val_loss, 'b', label='Validation loss')\n",
        "plt.title('Training and validation loss')\n",
        "plt.legend()\n",
        "plt.show()"
      ],
      "execution_count": 21,
      "outputs": [
        {
          "output_type": "display_data",
          "data": {
            "image/png": "[encoded data removed]",
            "text/plain": [
              "<Figure size 432x288 with 1 Axes>"
            ]
          },
          "metadata": {
            "needs_background": "light"
          }
        },
        {
          "output_type": "display_data",
          "data": {
            "image/png": "[encoded data removed]",
            "text/plain": [
              "<Figure size 432x288 with 1 Axes>"
            ]
          },
          "metadata": {
            "needs_background": "light"
          }
        }
      ]
    },
    {
      "cell_type": "markdown",
      "metadata": {
        "id": "o1--A3i-7uhx"
      },
      "source": [
        "**As wee seen above plots our model is nor overfitted neither underfitted**"
      ]
    },
    {
      "cell_type": "code",
      "metadata": {
        "colab": {
          "base_uri": "https://localhost:8080/"
        },
        "id": "EAxkmtl0hTp0",
        "outputId": "fbc9f1b0-8940-44f5-d2d0-4ebd514e8646"
      },
      "source": [
        "# Predict classes of unseen data\n",
        "predicted_classes = model.predict(X_test)\n",
        "print(f'{predicted_classes[:2]} \\n')\n",
        "\n",
        "# preiction is like probability of each class predicted for every data point, using below line of code, selected max probability index and this index is known\n",
        "# as class for that data point\n",
        "predicted_classes = np.argmax(np.round(predicted_classes),axis=1) \n",
        "print(predicted_classes[:2])\n"
      ],
      "execution_count": 22,
      "outputs": [
        {
          "output_type": "stream",
          "name": "stdout",
          "text": [
            "[[8.9066532e-10 6.6999696e-08 8.3080991e-08 5.6761587e-07 2.1626311e-08\n",
            "  9.2989026e-11 3.3875351e-14 9.9999022e-01 2.2321869e-08 9.0389967e-06]\n",
            " [6.3105595e-08 1.0320403e-05 9.9998891e-01 3.1299022e-10 1.5994302e-10\n",
            "  1.1242171e-11 7.0154641e-07 1.7770421e-10 7.2926261e-09 5.9434109e-13]] \n",
            "\n",
            "[7 2]\n"
          ]
        }
      ]
    },
    {
      "cell_type": "code",
      "metadata": {
        "colab": {
          "base_uri": "https://localhost:8080/"
        },
        "id": "w6OUfxXzhTne",
        "outputId": "517d1da3-0719-4998-c444-6e4881d60787"
      },
      "source": [
        "predicted_classes.shape, Y_test.shape"
      ],
      "execution_count": 23,
      "outputs": [
        {
          "output_type": "execute_result",
          "data": {
            "text/plain": [
              "((10000,), (10000,))"
            ]
          },
          "metadata": {},
          "execution_count": 23
        }
      ]
    },
    {
      "cell_type": "code",
      "metadata": {
        "id": "gu0leDINrAT7"
      },
      "source": [
        "# where predicted class & Actual class of datapoint is same assign 1 to that point else assign 0\n",
        "u = np.where(predicted_classes==Y_test, 1,0)"
      ],
      "execution_count": 24,
      "outputs": []
    },
    {
      "cell_type": "code",
      "metadata": {
        "colab": {
          "base_uri": "https://localhost:8080/"
        },
        "id": "LCs7KqMorZUP",
        "outputId": "21ecc367-0590-4435-fd1c-9cecfeb937eb"
      },
      "source": [
        "print(f'{np.sum(u==1)} out of 10_000 predicted correctly')"
      ],
      "execution_count": 25,
      "outputs": [
        {
          "output_type": "stream",
          "name": "stdout",
          "text": [
            "9915 out of 10_000 predicted correctly\n"
          ]
        }
      ]
    },
    {
      "cell_type": "code",
      "metadata": {
        "colab": {
          "base_uri": "https://localhost:8080/"
        },
        "id": "vVQKGgbbrn6V",
        "outputId": "c15f95a8-57e8-49f2-896b-9342c1553bb4"
      },
      "source": [
        "print(f'{len(y_test_cat)-(np.sum(u==1))} out of 10_000 are not correctly predicted')"
      ],
      "execution_count": 26,
      "outputs": [
        {
          "output_type": "stream",
          "name": "stdout",
          "text": [
            "85 out of 10_000 are not correctly predicted\n"
          ]
        }
      ]
    },
    {
      "cell_type": "code",
      "metadata": {
        "colab": {
          "base_uri": "https://localhost:8080/",
          "height": 314
        },
        "id": "miL6mUSYp1aF",
        "outputId": "b58a71f8-502b-4113-8c3d-760349d0fb91"
      },
      "source": [
        "correct = np.where(predicted_classes==Y_test)[0] \n",
        "print(\"Found %d correct labels\" % len(correct))\n",
        "for i, correct in enumerate(correct[:9]):\n",
        "    plt.subplot(3,3,i+1)\n",
        "    plt.imshow(X_test[correct].reshape(28,28), cmap='gray', interpolation='none')\n",
        "    plt.title(\"Predicted {}, Class {}\".format(predicted_classes[correct], Y_test[correct]))\n",
        "    plt.tight_layout()"
      ],
      "execution_count": 27,
      "outputs": [
        {
          "output_type": "stream",
          "name": "stdout",
          "text": [
            "Found 9915 correct labels\n"
          ]
        },
        {
          "output_type": "display_data",
          "data": {
            "image/png": "[encoded data removed]",
            "text/plain": [
              "<Figure size 432x288 with 9 Axes>"
            ]
          },
          "metadata": {
            "needs_background": "light"
          }
        }
      ]
    },
    {
      "cell_type": "code",
      "metadata": {
        "id": "e31kigU1mWPl"
      },
      "source": [
        "# wrong Predicted classes\n",
        "u_correct = np.where(~(predicted_classes==Y_test))[0]"
      ],
      "execution_count": 28,
      "outputs": []
    },
    {
      "cell_type": "code",
      "metadata": {
        "colab": {
          "base_uri": "https://localhost:8080/",
          "height": 297
        },
        "id": "WdZwUpV0p1S_",
        "outputId": "713d8c97-683e-473b-bb29-7b8d0ad35a47"
      },
      "source": [
        "for ind, i in enumerate(u_correct[:9]):\n",
        "  plt.subplot(3,3,ind+1)\n",
        "  imshow(X_test[i].reshape(28,28))\n",
        "  plt.title(f'Pred : {predicted_classes[i]} Actual : {Y_test[i]}')\n",
        "  plt.tight_layout()"
      ],
      "execution_count": 29,
      "outputs": [
        {
          "output_type": "display_data",
          "data": {
            "image/png": "[encoded data removed]",
            "text/plain": [
              "<Figure size 432x288 with 8 Axes>"
            ]
          },
          "metadata": {
            "needs_background": "light"
          }
        }
      ]
    },
    {
      "cell_type": "code",
      "metadata": {
        "id": "yyRMFkX1p1Qn"
      },
      "source": [
        "# confusion matrix\n",
        "import seaborn as sns\n",
        "\n",
        "# compute the confusion matrix\n",
        "confusion_mtx = confusion_matrix(Y_test, predicted_classes)"
      ],
      "execution_count": 30,
      "outputs": []
    },
    {
      "cell_type": "code",
      "metadata": {
        "colab": {
          "base_uri": "https://localhost:8080/"
        },
        "id": "ABzM4v-sp1Ew",
        "outputId": "2b623a6a-dac5-4717-a646-ab3faff5fd0c"
      },
      "source": [
        "print(f'{predicted_classes[:5]}\\n')\n",
        "print(Y_test[:5])"
      ],
      "execution_count": 31,
      "outputs": [
        {
          "output_type": "stream",
          "name": "stdout",
          "text": [
            "[7 2 1 0 4]\n",
            "\n",
            "[7 2 1 0 4]\n"
          ]
        }
      ]
    },
    {
      "cell_type": "code",
      "metadata": {
        "colab": {
          "base_uri": "https://localhost:8080/",
          "height": 513
        },
        "id": "eBQYelmCzM2p",
        "outputId": "5a1437f5-5474-42a4-a7ac-1117cebb966b"
      },
      "source": [
        "# plot the confusion matrix\n",
        "f,ax = plt.subplots(figsize=(10, 8))\n",
        "sns.heatmap(confusion_mtx, annot=True, linewidths=0.01,cmap=\"Greens\",linecolor=\"gray\", fmt= '.1f',ax=ax)\n",
        "plt.xlabel(\"Predicted Label\")\n",
        "plt.ylabel(\"True Label\")\n",
        "plt.title(\"Confusion Matrix\")\n",
        "plt.show()"
      ],
      "execution_count": 32,
      "outputs": [
        {
          "output_type": "display_data",
          "data": {
            "image/png": "[encoded data removed]",
            "text/plain": [
              "<Figure size 720x576 with 2 Axes>"
            ]
          },
          "metadata": {
            "needs_background": "light"
          }
        }
      ]
    },
    {
      "cell_type": "code",
      "metadata": {
        "colab": {
          "base_uri": "https://localhost:8080/"
        },
        "id": "Eb3sy8BhzMx_",
        "outputId": "77fc4dec-d5a3-4d5c-c7a7-a60db5f48e66"
      },
      "source": [
        "from sklearn.metrics import classification_report\n",
        "target_names = [\"Class {}\".format(i) for i in range(len(np.unique(Y_test)))]\n",
        "print(classification_report(Y_test, predicted_classes, target_names=target_names))"
      ],
      "execution_count": 34,
      "outputs": [
        {
          "output_type": "stream",
          "name": "stdout",
          "text": [
            "              precision    recall  f1-score   support\n",
            "\n",
            "     Class 0       0.97      1.00      0.99       980\n",
            "     Class 1       1.00      1.00      1.00      1135\n",
            "     Class 2       1.00      0.99      0.99      1032\n",
            "     Class 3       0.99      1.00      0.99      1010\n",
            "     Class 4       0.99      0.99      0.99       982\n",
            "     Class 5       0.99      0.99      0.99       892\n",
            "     Class 6       1.00      0.99      0.99       958\n",
            "     Class 7       0.99      1.00      0.99      1028\n",
            "     Class 8       0.99      0.99      0.99       974\n",
            "     Class 9       0.99      0.98      0.99      1009\n",
            "\n",
            "    accuracy                           0.99     10000\n",
            "   macro avg       0.99      0.99      0.99     10000\n",
            "weighted avg       0.99      0.99      0.99     10000\n",
            "\n"
          ]
        }
      ]
    }
  ]
}